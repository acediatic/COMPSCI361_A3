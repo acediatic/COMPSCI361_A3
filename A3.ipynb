{
 "metadata": {
  "language_info": {
   "codemirror_mode": {
    "name": "ipython",
    "version": 3
   },
   "file_extension": ".py",
   "mimetype": "text/x-python",
   "name": "python",
   "nbconvert_exporter": "python",
   "pygments_lexer": "ipython3",
   "version": "3.9.4"
  },
  "orig_nbformat": 2,
  "kernelspec": {
   "name": "python394jvsc74a57bd0e4329b641bbdbd8e1182fbadc5ebb2e523e312e1f9373a057c466e1263c44057",
   "display_name": "Python 3.9.4 64-bit (windows store)"
  },
  "metadata": {
   "interpreter": {
    "hash": "e4329b641bbdbd8e1182fbadc5ebb2e523e312e1f9373a057c466e1263c44057"
   }
  }
 },
 "nbformat": 4,
 "nbformat_minor": 2,
 "cells": [
  {
   "cell_type": "code",
   "execution_count": 2,
   "metadata": {},
   "outputs": [],
   "source": [
    "import numpy as np"
   ]
  },
  {
   "cell_type": "code",
   "execution_count": 11,
   "metadata": {},
   "outputs": [],
   "source": [
    "PATH_TO_DATA = \"naivebayes-21\\\\trg.csv\""
   ]
  },
  {
   "cell_type": "code",
   "execution_count": 29,
   "metadata": {},
   "outputs": [],
   "source": [
    "list_data = []\n",
    "with open(PATH_TO_DATA) as csv_file:\n",
    "    for line in csv_file:\n",
    "        line_lst = line.split(',')\n",
    "        line_lst[-1] = line_lst[-1].replace('\\n', '')\n",
    "\n",
    "        list_data.append(line_lst)\n",
    "\n",
    "full_csv_data = np.array(list_data)\n",
    "\n",
    "headers = full_csv_data[0]\n",
    "data = np.asarray(full_csv_data[1:])"
   ]
  },
  {
   "cell_type": "code",
   "execution_count": 32,
   "metadata": {},
   "outputs": [
    {
     "output_type": "stream",
     "name": "stdout",
     "text": [
      "[['1' 'B'\n  '\"the 4 202 353 bp genome of the alkaliphilic bacterium bacillus halodurans c-125 contains 4066 predicted protein coding sequences cdss 2141 527 of which have functional assignments 1182 29 of which are conserved cdss with unknown function and 743 18 3 of which have no match to any protein database among the total cdss 88 match sequences of proteins found only in bacillus subtilis and 667 are widely conserved in comparison with the proteins of various organisms including bsubtilis the b halodurans genome contains 112 transposase genes indicating that transposases have played an important evolutionary role in horizontal gene transfer and also in internal genetic rearrangement in the genome strain c-125 lacks some of the necessary genes for competence such as coms srfa and rapc supporting the fact that competence has not been demonstrated experimentally in c-125 there is no paralog of tupa encoding teichuronopeptide which contributes to alkaliphily in the c-125 genome and an ortholog of tupa cannot be found in the bsubtilis genome out of 11 sigma factors which belong to the extracytoplasmic function family 10 are unique to b halodurans suggesting that they may have a role in the special mechanism of adaptation to an alkaline environment\"']\n ['2' 'A'\n  '\"the complete 1751377-bp sequence of the genome of the thermophilic archaeon methanobacterium thermoautotrophicum deltah has been determined by a whole-genome shotgun sequencing approach a total of 1855 open reading frames orfs have been identified that appear to encode polypeptides 844 46 of which have been assigned putative functions based on their similarities to database sequences with assigned functions a total of 514 28 of the orf-encoded polypeptides are related to sequences with unknown functions and 496 27 have little or no homology to sequences in public databases comparisons with eucarya- bacteria- and archaea-specific databases reveal that 1013 of the putative gene products 54 are most similar to polypeptide sequences described previously for other organisms in the domain archaea comparisons with the methanococcus jannaschii genome data underline the extensive divergence that has occurred between these two methanogens only 352 19 of m thermoautotrophicum orfs encode sequences that are 50 identical to m jannaschii polypeptides and there is little conservation in the relative locations of orthologous genes when the m thermoautotrophicum orfs are compared to sequences from only the eucaryal and bacterial domains 786 42 are more similar to bacterial sequences and 241 13 are more similar to eucaryal sequences the bacterial domain-like gene products include the majority of those predicted to be involved in cofactor and small molecule biosyntheses intermediary metabolism transport nitrogen fixation regulatory functions and interactions with the environment most proteins predicted to be involved in dna metabolism transcription and translation are more similar to eucaryal sequences gene structure and organization have features that are typical of the bacteria including genes that encode polypeptides closely related to eucaryal proteins there are 24 polypeptides that could form two-component sensor kinase-response regulator systems and homologs of the bacterial hsp70-response proteins dnak and dnaj which are notably absent in m jannaschii dna replication initiation and chromosome packaging in m thermoautotrophicum are predicted to have eucaryal features based on the presence of two cdc6 homologs and three histones however the presence of an ftsz gene indicates a bacterial type of cell division initiation the dna polymerases include an x-family repair type and an unusual archaeal b type formed by two separate polypeptides the dna-dependent rna polymerase rnap subunits a\\' a b\\' b and h are encoded in a typical archaeal rnap operon although a second a\\' subunit-encoding gene is present at a remote location there are two rrna operons and 39 trna genes are dispersed around the genome although most of these occur in clusters three of the trna genes have introns including the trnapro ggg gene which contains a second intron at an unprecedented location there is no selenocysteinyl-trna gene nor evidence for classically organized is elements prophages or plasmids the genome contains one intein and two extended repeats 36 and 86 kb that are members of a family with 18 representatives in the m jannaschii genome\"']\n ['3' 'E'\n  '\"in 1992 we started assembling an ordered library of cosmid clones from chromosome xiv of the yeast saccharomyces cerevisiae at that time only 49 genes were known to be located on this chromosome and we estimated that 80 to 90 of its genes were yet to be discovered in 1993 a team of 20 european laboratories began the systematic sequence analysis of chromosome xiv the completed and intensively checked final sequence of 784328 base pairs was released in april 1996 substantial parts had been published before or had previously been made available on request the sequence contained 419 known or presumptive protein-coding genes including two pseudogenes and three retrotransposons 14 trna genes and three small nuclear rna genes for 116 30 protein-coding sequences one or more structural homologues were identified elsewhere in the yeast genome half of them belong to duplicated groups of 6-14 loosely linked genes in most cases with conserved gene order and orientation relaxed interchromosomal synteny we have considered the possible evolutionary origins of this unexpected feature of yeast genome organization\"']\n ['4' 'E'\n  '\"the aim of this study is to measure human mitochondrial sequence variability in the relatively slowly evolving mitochondrial gene cytochrome oxidase subunit ii coii and to estimate when the human common ancestral mitochondrial type existed new coii gene sequences were determined for five humans homo sapiens including some of the most mitochondrially divergent humans known for two pygmy chimpanzees pan paniscus and for a common chimpanzee p troglodytes coii sequences were analyzed with those from another relatively slowly evolving mitochondrial region nd4-5 from class 1 third codon position sequence data a relative divergence date for the human mitochondrial ancestor is estimated as 127 th of the human-chimpanzee divergence time if it is assumed that humans and chimpanzees diverged 6 mya this places a human mitochondrial ancestor at 222000 years significantly different from 1 myr the presumed time of an h erectus emergence from africa the mean coalescent time estimated from all 1580 sites of combined mitochondrial data when a 6-mya human-chimpanzee divergence is assumed is 298000 years with 95 confidence interval of 129000-536000 years neither estimate is compatible with a 1-myr-old human mitochondrial ancestor the mitochondrial dna sequence data from coii and nd4-5 regions therefore do not support this multiregional hypothesis for the emergence of modern humans\"']\n ['5' 'B'\n  '\"the amino acid sequence of the spirulina maxima ferredoxin was shown to be h2n-ala-thr-tyr-lys-val-thr-leu-ile-ser-glu-ala-glu-gly-ile-asn-glu-thr-ile-asp-cys-asp-asp-asp-thr-tyr-ile-leu-asp-ala-ala-glu-glu-ala-gly-leu-asp-leu-pro-tyr-ser-cys-arg-ala-gly-ala-cys-ser-thr-cys-ala-gly-lys-ile-thr-ser-gly-ser-ile-asp-gln-ser-asp-gln-ser-phe-leu-asp-asp-asp-gln-ile-gln-ala-gly-tyr-val-leu-thr-cys-val-ala-tyr-pro-thr-ser-asp-cys-thr-ile-gln-thr-his-gln-glu-glu-gly-leu-tyr-cooh the s maxima ferredoxin is the first procaryote ferredoxin of the plant-algal type to be reported a modification of the automated sequence determination of a peptide which was extracted by the organic solvents used to remove excess reagents and the amino acid thiazoline was utilized to complete the sequence of a 36 residue tryptic peptide\"']\n ['6' 'B'\n  '\"the genus xanthomonas is a diverse and economically important group of bacterial phytopathogens belonging to the gamma-subdivision of the proteobacteria xanthomonas axonopodis pv citri xac causes citrus canker which affects most commercial citrus cultivars resulting in significant losses worldwide symptoms include canker lesions leading to abscission of fruit and leaves and general tree decline xanthomonas campestris pv campestris xcc causes black rot which affects crucifers such as brassica and arabidopsis symptoms include marginal leaf chlorosis and darkening of vascular tissue accompanied by extensive wilting and necrosis xanthomonas campestris pv campestris is grown commercially to produce the exopolysaccharide xanthan gum which is used as a viscosifying and stabilizing agent in many industries here we report and compare the complete genome sequences of xac and xcc their distinct disease phenotypes and host ranges belie a high degree of similarity at the genomic level more than 80 of genes are shared and gene order is conserved along most of their respective chromosomes we identified several groups of strain-specific genes and on the basis of these groups we propose mechanisms that may explain the differing host specificities and pathogenic processes\"']\n ['7' 'B'\n  '\"the complete nucleotide sequence of the genome of a symbiotic bacterium bradyrhizobium japonicum usda110 was determined the genome of b japonicum was a single circular chromosome 9105828 bp in length with an average gc content of 641 no plasmid was detected the chromosome comprises 8317 potential protein-coding genes one set of rrna genes and 50 trna genes fifty-two percent of the potential protein genes showed sequence similarity to genes of known function and 30 to hypothetical genes the remaining 18 had no apparent similarity to reported genes thirty-four percent of the b japonicum genes showed significant sequence similarity to those of both mesorhizobium loti and sinorhizobium meliloti while 23 were unique to this species a presumptive symbiosis island 681 kb in length which includes a 410-kb symbiotic region previously reported by gttfert et al was identified six hundred fifty-five putative protein-coding genes were assigned in this region and the functions of 301 genes including those related to symbiotic nitrogen fixation and dna transmission were deduced a total of 167 genes for transposases104 copies of insertion sequences were identified in the genome it was remarkable that 100 out of 167 transposase genes are located in the presumptive symbiotic island dna segments of 4 to 97 kb inserted into trna genes were found at 14 locations in the genome which generates partial duplication of the target trna genes these observations suggest plasticity of the b japonicum genome which is probably due to complex genome rearrangements such as horizontal transfer and insertion of various dna elements and to homologous recombination\"']\n ['8' 'B'\n  '\"the complete genome sequence of caulobacter crescentus was determined to be 4016942 base pairs in a single circular chromosome encoding 3767 genes this organism which grows in a dilute aquatic environment coordinates the cell division cycle and multiple cell differentiation events with the annotated genome sequence a full description of the genetic network that controls bacterial differentiation cell growth and cell cycle progression is within reach two-component signal transduction proteins are known to play a significant role in cell cycle progression genome analysis revealed that the c crescentus genome encodes a significantly higher number of these signaling proteins 105 than any bacterial genome sequenced thus far another regulatory mechanism involved in cell cycle progression is dna methylation the occurrence of the recognition sequence for an essential dna methylating enzyme that is required for cell cycle regulation is severely limited and shows a bias to intergenic regions the genome contains multiple clusters of genes encoding proteins essential for survival in a nutrient poor habitat included are those involved in chemotaxis outer membrane channel function degradation of aromatic ring compounds and the breakdown of plant-derived carbon sources in addition to many extracytoplasmic function sigma factors providing the organism with the ability to respond to a wide range of environmental fluctuations c crescentus is to our knowledge the first free-living alpha-class proteobacterium to be sequenced and will serve as a foundation for exploring the biology of this group of bacteria which includes the obligate endosymbiont and human pathogen rickettsia prowazekii the plant pathogen agrobacterium tumefaciens and the bovine and human pathogen brucella abortus\"']\n ['9' 'V'\n  '\"the complete dna sequence of the a2 strain of polyoma virus has been determined it consists of 5292 base pairs the sequence is analysed in terms of its coding potential and sites of possible functional significance or structural interest the polyoma virus genome is compared with those of related tumour viruses simian virus 40 and bk virus\"']\n ['10' 'B'\n  '\"the complete genomic sequence of corynebacterium glutamicum atcc 13032 well-known in industry for the production of amino acids eg of l-glutamate and l-lysine was determined the c glutamicum genome was found to consist of a single circular chromosome comprising 3282708 base pairs several dna regions of unusual composition were identified that were potentially acquired by horizontal gene transfer eg a segment of dna from c diphtheriae and a prophage-containing region after automated and manual annotation 3002 protein-coding genes have been identified and to 2489 of these functions were assigned by homologies to known proteins these analyses confirm the taxonomic position of c glutamicum as related to mycobacteria and show a broad metabolic diversity as expected for a bacterium living in the soil as an example for biotechnological application the complete genome sequence was used to reconstruct the metabolic flow of carbon into a number of industrially important products derived from the amino acid l-aspartate\"']]\n"
     ]
    }
   ],
   "source": [
    "print(data[:10])"
   ]
  },
  {
   "cell_type": "code",
   "execution_count": null,
   "metadata": {},
   "outputs": [],
   "source": []
  }
 ]
}