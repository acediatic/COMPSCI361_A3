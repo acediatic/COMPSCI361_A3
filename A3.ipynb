{
 "metadata": {
  "language_info": {
   "codemirror_mode": {
    "name": "ipython",
    "version": 3
   },
   "file_extension": ".py",
   "mimetype": "text/x-python",
   "name": "python",
   "nbconvert_exporter": "python",
   "pygments_lexer": "ipython3",
   "version": "3.9.4"
  },
  "orig_nbformat": 2,
  "kernelspec": {
   "name": "python394jvsc74a57bd0e4329b641bbdbd8e1182fbadc5ebb2e523e312e1f9373a057c466e1263c44057",
   "display_name": "Python 3.9.4 64-bit (windows store)"
  },
  "metadata": {
   "interpreter": {
    "hash": "e4329b641bbdbd8e1182fbadc5ebb2e523e312e1f9373a057c466e1263c44057"
   }
  }
 },
 "nbformat": 4,
 "nbformat_minor": 2,
 "cells": [
  {
   "source": [
    "p()"
   ],
   "cell_type": "markdown",
   "metadata": {}
  },
  {
   "cell_type": "code",
   "execution_count": 1,
   "metadata": {},
   "outputs": [],
   "source": [
    "import numpy as np"
   ]
  },
  {
   "cell_type": "code",
   "execution_count": 2,
   "metadata": {},
   "outputs": [],
   "source": [
    "PATH_TO_DATA = \"naivebayes-21\\\\trg.csv\""
   ]
  },
  {
   "cell_type": "code",
   "execution_count": 3,
   "metadata": {},
   "outputs": [],
   "source": [
    "from collections import defaultdict"
   ]
  },
  {
   "cell_type": "code",
   "execution_count": 4,
   "metadata": {},
   "outputs": [
    {
     "output_type": "stream",
     "name": "stdout",
     "text": [
      "[['B'\n  '\"the 4 202 353 bp genome of the alkaliphilic bacterium bacillus halodurans c-125 contains 4066 predicted protein coding sequences cdss 2141 527 of which have functional assignments 1182 29 of which are conserved cdss with unknown function and 743 18 3 of which have no match to any protein database among the total cdss 88 match sequences of proteins found only in bacillus subtilis and 667 are widely conserved in comparison with the proteins of various organisms including bsubtilis the b halodurans genome contains 112 transposase genes indicating that transposases have played an important evolutionary role in horizontal gene transfer and also in internal genetic rearrangement in the genome strain c-125 lacks some of the necessary genes for competence such as coms srfa and rapc supporting the fact that competence has not been demonstrated experimentally in c-125 there is no paralog of tupa encoding teichuronopeptide which contributes to alkaliphily in the c-125 genome and an ortholog of tupa cannot be found in the bsubtilis genome out of 11 sigma factors which belong to the extracytoplasmic function family 10 are unique to b halodurans suggesting that they may have a role in the special mechanism of adaptation to an alkaline environment\"']\n ['A'\n  '\"the complete 1751377-bp sequence of the genome of the thermophilic archaeon methanobacterium thermoautotrophicum deltah has been determined by a whole-genome shotgun sequencing approach a total of 1855 open reading frames orfs have been identified that appear to encode polypeptides 844 46 of which have been assigned putative functions based on their similarities to database sequences with assigned functions a total of 514 28 of the orf-encoded polypeptides are related to sequences with unknown functions and 496 27 have little or no homology to sequences in public databases comparisons with eucarya- bacteria- and archaea-specific databases reveal that 1013 of the putative gene products 54 are most similar to polypeptide sequences described previously for other organisms in the domain archaea comparisons with the methanococcus jannaschii genome data underline the extensive divergence that has occurred between these two methanogens only 352 19 of m thermoautotrophicum orfs encode sequences that are 50 identical to m jannaschii polypeptides and there is little conservation in the relative locations of orthologous genes when the m thermoautotrophicum orfs are compared to sequences from only the eucaryal and bacterial domains 786 42 are more similar to bacterial sequences and 241 13 are more similar to eucaryal sequences the bacterial domain-like gene products include the majority of those predicted to be involved in cofactor and small molecule biosyntheses intermediary metabolism transport nitrogen fixation regulatory functions and interactions with the environment most proteins predicted to be involved in dna metabolism transcription and translation are more similar to eucaryal sequences gene structure and organization have features that are typical of the bacteria including genes that encode polypeptides closely related to eucaryal proteins there are 24 polypeptides that could form two-component sensor kinase-response regulator systems and homologs of the bacterial hsp70-response proteins dnak and dnaj which are notably absent in m jannaschii dna replication initiation and chromosome packaging in m thermoautotrophicum are predicted to have eucaryal features based on the presence of two cdc6 homologs and three histones however the presence of an ftsz gene indicates a bacterial type of cell division initiation the dna polymerases include an x-family repair type and an unusual archaeal b type formed by two separate polypeptides the dna-dependent rna polymerase rnap subunits a\\' a b\\' b and h are encoded in a typical archaeal rnap operon although a second a\\' subunit-encoding gene is present at a remote location there are two rrna operons and 39 trna genes are dispersed around the genome although most of these occur in clusters three of the trna genes have introns including the trnapro ggg gene which contains a second intron at an unprecedented location there is no selenocysteinyl-trna gene nor evidence for classically organized is elements prophages or plasmids the genome contains one intein and two extended repeats 36 and 86 kb that are members of a family with 18 representatives in the m jannaschii genome\"']]\n"
     ]
    }
   ],
   "source": [
    "list_data = []\n",
    "class_freq = defaultdict(lambda: 0)\n",
    "\n",
    "with open(PATH_TO_DATA) as csv_file:\n",
    "    for line in csv_file:\n",
    "        line_lst = line.split(',')\n",
    "        line_lst[-1] = line_lst[-1].replace('\\n', '')\n",
    "\n",
    "        class_freq[line_lst[1]] += 1 \n",
    "\n",
    "        list_data.append(line_lst)\n",
    "\n",
    "\n",
    "full_csv_data = np.array(list_data)\n",
    "class_freq.pop('class')\n",
    "\n",
    "\n",
    "labels = class_freq.keys()\n",
    "headers = full_csv_data[0]\n",
    "data = np.asarray(full_csv_data[1:,1:])\n",
    "print(data[:2])"
   ]
  },
  {
   "cell_type": "code",
   "execution_count": 5,
   "metadata": {},
   "outputs": [
    {
     "output_type": "stream",
     "name": "stdout",
     "text": [
      "dict_items([('B', 1602), ('A', 128), ('E', 2144), ('V', 126)])\ndict_keys(['B', 'A', 'E', 'V'])\n"
     ]
    }
   ],
   "source": [
    "print(class_freq.items())\n",
    "print(labels)"
   ]
  },
  {
   "cell_type": "code",
   "execution_count": 6,
   "metadata": {},
   "outputs": [],
   "source": [
    "from numpy.random import default_rng\n",
    "\n",
    "ABSTRT_I = 1\n",
    "LBL_I = 0"
   ]
  },
  {
   "cell_type": "code",
   "execution_count": 7,
   "metadata": {},
   "outputs": [],
   "source": [
    "def train_test_split(X, y, test_size=None, stratify=False):\n",
    "\n",
    "    rng = default_rng()\n",
    "    arr = np.arange(10)\n",
    "    arr1 = np.arange(10)\n",
    "\n",
    "    rng.random(arr)\n",
    "    print(arr)"
   ]
  },
  {
   "cell_type": "code",
   "execution_count": 8,
   "metadata": {},
   "outputs": [
    {
     "output_type": "stream",
     "name": "stdout",
     "text": [
      "[0 1 2 3 4 5 6 7 8 9]\n"
     ]
    }
   ],
   "source": [
    "train_test_split(None, None, None)"
   ]
  },
  {
   "cell_type": "code",
   "execution_count": 9,
   "metadata": {},
   "outputs": [],
   "source": [
    " def get_stratified_kfold_splits(data, k=10):\n",
    "    instances_of_class = dict()\n",
    "\n",
    "    for label in labels:\n",
    "        i_arr = data[:, 0] == label\n",
    "        instances_of_class[label] = data[i_arr]\n",
    "    \n",
    "    stratified_splits = dict()\n",
    "    \n",
    "    # Upsample to divisible by k\n",
    "    for class_label, class_instances in instances_of_class.items():\n",
    "        n = len(class_instances)\n",
    "        upsample_amt = k - n % k\n",
    "\n",
    "        random_indices = np.random.choice(class_instances[:, ABSTRT_I], size=upsample_amt, replace=False)\n",
    "        random_indices.resize(random_indices.shape[0], 2)\n",
    "        random_indices[:, -1] = class_label\n",
    "\n",
    "        upsampled_class_instances = np.concatenate((class_instances, random_indices), 0)\n",
    "        assert len(upsampled_class_instances) % k == 0, \"num examples should be divisible by k\"\n",
    "\n",
    "        stratified_splits[class_label] = np.split(upsampled_class_instances, k)\n",
    "\n",
    "    for i in range(k):\n",
    "        kth_data_lst = [stratified_splits[label][i] for label in labels]\n",
    "        \n",
    "        kth_data = np.concatenate(kth_data_lst)\n",
    "        np.random.shuffle(kth_data)\n",
    "\n",
    "        yield kth_data"
   ]
  },
  {
   "cell_type": "code",
   "execution_count": 10,
   "metadata": {},
   "outputs": [],
   "source": [
    "stratified_data = get_stratified_kfold_splits(data)"
   ]
  },
  {
   "cell_type": "code",
   "execution_count": 11,
   "metadata": {},
   "outputs": [],
   "source": [
    "def get_word_counts(data):\n",
    "\n",
    "    all_words = set(word for i in range(len(data)) for word in data[i][ABSTRT_I].split()) \n",
    "\n",
    "    all_words_i = {word:i for i, word in enumerate(all_words)}\n",
    "\n",
    "    freq_mat = np.zeros((len(data), len(all_words)))\n",
    "\n",
    "    for i in range(len(data)):\n",
    "        for word in data[i][ABSTRT_I].split():\n",
    "            freq_mat[i,all_words_i[word]] += 1\n",
    "\n",
    "    return freq_mat"
   ]
  },
  {
   "cell_type": "code",
   "execution_count": 12,
   "metadata": {},
   "outputs": [],
   "source": [
    "def get_sum_mat(freq_mat, data):\n",
    "    sum_mat = np.zeros((len(labels), freq_mat.shape[1]))\n",
    "    \n",
    "    for i,lbl in enumerate(labels):\n",
    "        sum_mat[i,:] = np.sum(freq_mat, axis=0, where=lbl in data[:,LBL_I]) \n",
    "    return sum_mat"
   ]
  },
  {
   "cell_type": "code",
   "execution_count": 13,
   "metadata": {},
   "outputs": [],
   "source": [
    "sd = next(stratified_data)\n",
    "X = sd[:-1]\n",
    "y = sd[-1]"
   ]
  },
  {
   "cell_type": "code",
   "execution_count": 14,
   "metadata": {},
   "outputs": [
    {
     "output_type": "stream",
     "name": "stdout",
     "text": [
      "[ 1.  1.  5. ...  1. 54.  2.]\n[ 1.  1.  5. ...  1. 54.  2.]\n[ 1.  1.  5. ...  1. 54.  2.]\n"
     ]
    }
   ],
   "source": [
    "freq_mat = get_word_counts(sd)\n",
    "summa = get_sum_mat(freq_mat, sd)\n",
    "print(summa[0])\n",
    "print(summa[1])\n",
    "print(summa[2])\n"
   ]
  },
  {
   "cell_type": "code",
   "execution_count": 15,
   "metadata": {},
   "outputs": [],
   "source": [
    "NUM_FEATURES = 10\n",
    "\n"
   ]
  }
 ]
}