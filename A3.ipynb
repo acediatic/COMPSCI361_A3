{
 "metadata": {
  "language_info": {
   "codemirror_mode": {
    "name": "ipython",
    "version": 3
   },
   "file_extension": ".py",
   "mimetype": "text/x-python",
   "name": "python",
   "nbconvert_exporter": "python",
   "pygments_lexer": "ipython3",
   "version": "3.9.4"
  },
  "orig_nbformat": 2,
  "kernelspec": {
   "name": "python394jvsc74a57bd0e4329b641bbdbd8e1182fbadc5ebb2e523e312e1f9373a057c466e1263c44057",
   "display_name": "Python 3.9.4 64-bit (windows store)"
  },
  "metadata": {
   "interpreter": {
    "hash": "e4329b641bbdbd8e1182fbadc5ebb2e523e312e1f9373a057c466e1263c44057"
   }
  }
 },
 "nbformat": 4,
 "nbformat_minor": 2,
 "cells": [
  {
   "source": [
    "p()"
   ],
   "cell_type": "markdown",
   "metadata": {}
  },
  {
   "cell_type": "code",
   "execution_count": 2,
   "metadata": {},
   "outputs": [],
   "source": [
    "import numpy as np"
   ]
  },
  {
   "cell_type": "code",
   "execution_count": 11,
   "metadata": {},
   "outputs": [],
   "source": [
    "PATH_TO_DATA = \"naivebayes-21\\\\trg.csv\""
   ]
  },
  {
   "cell_type": "code",
   "execution_count": 53,
   "metadata": {},
   "outputs": [],
   "source": [
    "from collections import defaultdict"
   ]
  },
  {
   "cell_type": "code",
   "execution_count": 77,
   "metadata": {},
   "outputs": [],
   "source": [
    "list_data = []\n",
    "class_freq = defaultdict(lambda: 0)\n",
    "\n",
    "ABSTRT_I = 2\n",
    "LBL_I = 1\n",
    "\n",
    "with open(PATH_TO_DATA) as csv_file:\n",
    "    for line in csv_file:\n",
    "        line_lst = line.split(',')\n",
    "        line_lst[-1] = line_lst[-1].replace('\\n', '')\n",
    "\n",
    "        class_freq[line_lst[1]] += 1 \n",
    "\n",
    "        list_data.append(line_lst)\n",
    "\n",
    "\n",
    "full_csv_data = np.array(list_data)\n",
    "class_freq.pop('class')\n",
    "\n",
    "\n",
    "labels = class_freq.keys()\n",
    "headers = full_csv_data[0]\n",
    "data = np.asarray(full_csv_data[1:])"
   ]
  },
  {
   "cell_type": "code",
   "execution_count": 78,
   "metadata": {},
   "outputs": [
    {
     "output_type": "stream",
     "name": "stdout",
     "text": [
      "dict_items([('B', 1602), ('A', 128), ('E', 2144), ('V', 126)])\ndict_keys(['B', 'A', 'E', 'V'])\n"
     ]
    }
   ],
   "source": [
    "print(class_freq.items())\n",
    "print(labels)"
   ]
  },
  {
   "cell_type": "code",
   "execution_count": 90,
   "metadata": {},
   "outputs": [
    {
     "output_type": "stream",
     "name": "stdout",
     "text": [
      "X[:2]:\n ['\"the 4 202 353 bp genome of the alkaliphilic bacterium bacillus halodurans c-125 contains 4066 predicted protein coding sequences cdss 2141 527 of which have functional assignments 1182 29 of which are conserved cdss with unknown function and 743 18 3 of which have no match to any protein database among the total cdss 88 match sequences of proteins found only in bacillus subtilis and 667 are widely conserved in comparison with the proteins of various organisms including bsubtilis the b halodurans genome contains 112 transposase genes indicating that transposases have played an important evolutionary role in horizontal gene transfer and also in internal genetic rearrangement in the genome strain c-125 lacks some of the necessary genes for competence such as coms srfa and rapc supporting the fact that competence has not been demonstrated experimentally in c-125 there is no paralog of tupa encoding teichuronopeptide which contributes to alkaliphily in the c-125 genome and an ortholog of tupa cannot be found in the bsubtilis genome out of 11 sigma factors which belong to the extracytoplasmic function family 10 are unique to b halodurans suggesting that they may have a role in the special mechanism of adaptation to an alkaline environment\"'\n '\"the complete 1751377-bp sequence of the genome of the thermophilic archaeon methanobacterium thermoautotrophicum deltah has been determined by a whole-genome shotgun sequencing approach a total of 1855 open reading frames orfs have been identified that appear to encode polypeptides 844 46 of which have been assigned putative functions based on their similarities to database sequences with assigned functions a total of 514 28 of the orf-encoded polypeptides are related to sequences with unknown functions and 496 27 have little or no homology to sequences in public databases comparisons with eucarya- bacteria- and archaea-specific databases reveal that 1013 of the putative gene products 54 are most similar to polypeptide sequences described previously for other organisms in the domain archaea comparisons with the methanococcus jannaschii genome data underline the extensive divergence that has occurred between these two methanogens only 352 19 of m thermoautotrophicum orfs encode sequences that are 50 identical to m jannaschii polypeptides and there is little conservation in the relative locations of orthologous genes when the m thermoautotrophicum orfs are compared to sequences from only the eucaryal and bacterial domains 786 42 are more similar to bacterial sequences and 241 13 are more similar to eucaryal sequences the bacterial domain-like gene products include the majority of those predicted to be involved in cofactor and small molecule biosyntheses intermediary metabolism transport nitrogen fixation regulatory functions and interactions with the environment most proteins predicted to be involved in dna metabolism transcription and translation are more similar to eucaryal sequences gene structure and organization have features that are typical of the bacteria including genes that encode polypeptides closely related to eucaryal proteins there are 24 polypeptides that could form two-component sensor kinase-response regulator systems and homologs of the bacterial hsp70-response proteins dnak and dnaj which are notably absent in m jannaschii dna replication initiation and chromosome packaging in m thermoautotrophicum are predicted to have eucaryal features based on the presence of two cdc6 homologs and three histones however the presence of an ftsz gene indicates a bacterial type of cell division initiation the dna polymerases include an x-family repair type and an unusual archaeal b type formed by two separate polypeptides the dna-dependent rna polymerase rnap subunits a\\' a b\\' b and h are encoded in a typical archaeal rnap operon although a second a\\' subunit-encoding gene is present at a remote location there are two rrna operons and 39 trna genes are dispersed around the genome although most of these occur in clusters three of the trna genes have introns including the trnapro ggg gene which contains a second intron at an unprecedented location there is no selenocysteinyl-trna gene nor evidence for classically organized is elements prophages or plasmids the genome contains one intein and two extended repeats 36 and 86 kb that are members of a family with 18 representatives in the m jannaschii genome\"']\ny[:5]:\n ['B' 'A' 'E' 'E' 'B']\n"
     ]
    }
   ],
   "source": [
    "X = data[:,ABSTRT_I]\n",
    "y = data[:,LBL_I]\n",
    "\n",
    "print(\"X[:2]:\\n\", X[:2])\n",
    "print(\"y[:5]:\\n\", y[:5])"
   ]
  },
  {
   "cell_type": "code",
   "execution_count": 39,
   "metadata": {},
   "outputs": [],
   "source": [
    "from numpy.random import default_rng"
   ]
  },
  {
   "cell_type": "code",
   "execution_count": 50,
   "metadata": {},
   "outputs": [],
   "source": [
    "def train_test_split(X, y, test_size=None, stratify=False):\n",
    "\n",
    "    rng = default_rng()\n",
    "    arr = np.arange(10)\n",
    "    arr1 = np.arange(10)\n",
    "\n",
    "    rng.random(arr)\n",
    "    print(arr)"
   ]
  },
  {
   "cell_type": "code",
   "execution_count": 51,
   "metadata": {},
   "outputs": [
    {
     "output_type": "stream",
     "name": "stdout",
     "text": [
      "[0 1 2 3 4 5 6 7 8 9]\n"
     ]
    }
   ],
   "source": [
    "train_test_split(None, None, None)"
   ]
  },
  {
   "cell_type": "code",
   "execution_count": 86,
   "metadata": {},
   "outputs": [],
   "source": [
    "# def cv_split(x, k: int = 5):\n",
    "#     '''k-fold cross validation'''\n",
    "#     rng = np.random.deafult_rng()\n",
    "#     perm = rng.permutation(len(x))\n",
    "#     for split in np.split(perm, k):\n",
    "#         rest = perm[~np.isin(perm, split, assume_unique=True)]\n",
    "#         yield rest, split\n",
    "    \n",
    "def stratified_kfold_cv(X, y, k=10):\n",
    "    class_instances = dict()\n",
    "\n",
    "    for label in labels:\n",
    "        class_instances[label] = np.where(X[LBL_I] == label)\n",
    "    \n",
    "    for lbl, np_lst in class_instances.items():\n",
    "        n = len(np_lst)\n",
    "\n",
    "        upsample_amt = k - n % k\n",
    "\n",
    "        random_indices = np.random.choice(n, size=upsample_amt, replace=False)\n",
    "\n",
    "        np_lst.concatenate(np_lst[random_indices, :], 0)\n",
    "\n",
    "        assert(len(np_lst) % k == 0)\n"
   ]
  },
  {
   "cell_type": "code",
   "execution_count": 91,
   "metadata": {},
   "outputs": [
    {
     "output_type": "error",
     "ename": "ValueError",
     "evalue": "Cannot take a larger sample than population when 'replace=False'",
     "traceback": [
      "\u001b[1;31m---------------------------------------------------------------------------\u001b[0m",
      "\u001b[1;31mValueError\u001b[0m                                Traceback (most recent call last)",
      "\u001b[1;32m<ipython-input-91-6c57d027c2c8>\u001b[0m in \u001b[0;36m<module>\u001b[1;34m\u001b[0m\n\u001b[1;32m----> 1\u001b[1;33m \u001b[0mstratified_kfold_cv\u001b[0m\u001b[1;33m(\u001b[0m\u001b[0mX\u001b[0m\u001b[1;33m,\u001b[0m\u001b[0my\u001b[0m\u001b[1;33m)\u001b[0m\u001b[1;33m\u001b[0m\u001b[1;33m\u001b[0m\u001b[0m\n\u001b[0m",
      "\u001b[1;32m<ipython-input-86-4146b08d4342>\u001b[0m in \u001b[0;36mstratified_kfold_cv\u001b[1;34m(X, y, k)\u001b[0m\n\u001b[0;32m     18\u001b[0m         \u001b[0mupsample_amt\u001b[0m \u001b[1;33m=\u001b[0m \u001b[0mk\u001b[0m \u001b[1;33m-\u001b[0m \u001b[0mn\u001b[0m \u001b[1;33m%\u001b[0m \u001b[0mk\u001b[0m\u001b[1;33m\u001b[0m\u001b[1;33m\u001b[0m\u001b[0m\n\u001b[0;32m     19\u001b[0m \u001b[1;33m\u001b[0m\u001b[0m\n\u001b[1;32m---> 20\u001b[1;33m         \u001b[0mrandom_indices\u001b[0m \u001b[1;33m=\u001b[0m \u001b[0mnp\u001b[0m\u001b[1;33m.\u001b[0m\u001b[0mrandom\u001b[0m\u001b[1;33m.\u001b[0m\u001b[0mchoice\u001b[0m\u001b[1;33m(\u001b[0m\u001b[0mn\u001b[0m\u001b[1;33m,\u001b[0m \u001b[0msize\u001b[0m\u001b[1;33m=\u001b[0m\u001b[0mupsample_amt\u001b[0m\u001b[1;33m,\u001b[0m \u001b[0mreplace\u001b[0m\u001b[1;33m=\u001b[0m\u001b[1;32mFalse\u001b[0m\u001b[1;33m)\u001b[0m\u001b[1;33m\u001b[0m\u001b[1;33m\u001b[0m\u001b[0m\n\u001b[0m\u001b[0;32m     21\u001b[0m \u001b[1;33m\u001b[0m\u001b[0m\n\u001b[0;32m     22\u001b[0m         \u001b[0mnp_lst\u001b[0m\u001b[1;33m.\u001b[0m\u001b[0mconcatenate\u001b[0m\u001b[1;33m(\u001b[0m\u001b[0mnp_lst\u001b[0m\u001b[1;33m[\u001b[0m\u001b[0mrandom_indices\u001b[0m\u001b[1;33m,\u001b[0m \u001b[1;33m:\u001b[0m\u001b[1;33m]\u001b[0m\u001b[1;33m,\u001b[0m \u001b[1;36m0\u001b[0m\u001b[1;33m)\u001b[0m\u001b[1;33m\u001b[0m\u001b[1;33m\u001b[0m\u001b[0m\n",
      "\u001b[1;32mmtrand.pyx\u001b[0m in \u001b[0;36mnumpy.random.mtrand.RandomState.choice\u001b[1;34m()\u001b[0m\n",
      "\u001b[1;31mValueError\u001b[0m: Cannot take a larger sample than population when 'replace=False'"
     ]
    }
   ],
   "source": [
    "stratified_kfold_cv(X,y)"
   ]
  }
 ]
}